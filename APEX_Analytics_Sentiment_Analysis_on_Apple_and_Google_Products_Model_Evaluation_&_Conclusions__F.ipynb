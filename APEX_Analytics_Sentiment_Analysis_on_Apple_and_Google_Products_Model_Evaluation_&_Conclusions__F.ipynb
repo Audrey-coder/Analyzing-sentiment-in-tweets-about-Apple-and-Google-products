{
 "cells": [
  {
   "cell_type": "markdown",
   "metadata": {
    "id": "2oYcIApey0F3"
   },
   "source": [
    "# APEX Analytics Sentiment Analysis on Apple and Google Products\n",
    "### Authors: Audrey, Petronilla, George, Stella, Sylvia, Job"
   ]
  },
  {
   "cell_type": "markdown",
   "metadata": {
    "id": "RiGJygquBui4"
   },
   "source": [
    "## Business Understanding\n",
    "\n",
    "In this project, we are building a model that can analyze tweets about Apple and Google products and tell us what kind of emotion is behind them i.e positive, negative, or neutral. This kind of tool could help big companies like Apple or Google keep track of how people feel about their products without having to manually read through thousands of tweets a day."
   ]
  },
  {
   "cell_type": "markdown",
   "metadata": {
    "id": "t-TgngJ1CEVg"
   },
   "source": [
    "## Problem Statement\n",
    "We want to create a machine learning model that can take a tweet and predict its sentiment. Specifically, the tweet should be classified as either:Positive,Negative or Neutral. The dataset contains over 9,000 tweets labeled by humans.Our task is to train a model to learn from those labeled examples and apply the same logic to new, unseen tweets."
   ]
  },
  {
   "cell_type": "markdown",
   "metadata": {
    "id": "VNxBp-vNCnvR"
   },
   "source": [
    "## Objectives\n",
    "1.Biuld a model that can tell if a tweet is positive or negative.\n",
    "\n",
    "2.Use NLP steps like cleaning the text, splitting it into words, and turning it into numbers.\n",
    "\n",
    "3.Modellimg\n",
    "\n",
    "4.Evaluation using accuracy, precision, recall, and F1-score."
   ]
  },
  {
   "cell_type": "markdown",
   "metadata": {
    "id": "cePpuDDJFXeG"
   },
   "source": [
    "## Research Questions\n",
    "\n",
    "\n",
    "1.Can we accurately predict sentiment just from the text of a tweet?\n",
    "\n",
    "2.What kinds of words or phrases are most common in positive, negative, or neutral tweets?\n",
    "\n",
    "3.Which model performs best for this type of text classification task?\n",
    "\n",
    "4.What are the best evaluation metrics."
   ]
  },
  {
   "cell_type": "markdown",
   "metadata": {
    "id": "nE6ZF_-FFvdb"
   },
   "source": [
    "## Limitations\n",
    "\n",
    "1.Tweets are short and can be all over the place.\n",
    "\n",
    "2.Neutral tweets are tricky. Sometimes it is hard to tell if someone is being neutral or just not clear.\n",
    "\n",
    "3.The tweets were labeled by people, and not everyone agrees on what is positive or negative,so there might be some mixed signals in the data.\n",
    "\n",
    "4.The data is a bit old, so the way people talk in the tweets might not fully match how people tweet today."
   ]
  },
  {
   "cell_type": "markdown",
   "metadata": {
    "id": "Pkyml1ghJWs6"
   },
   "source": [
    "## Data Understanding"
   ]
  },
  {
   "cell_type": "code",
   "execution_count": 63,
   "metadata": {
    "colab": {
     "base_uri": "https://localhost:8080/"
    },
    "id": "EVM-b7p7y0GF",
    "outputId": "284f862c-85e4-4b60-988b-6c4979e70e94"
   },
   "outputs": [
    {
     "name": "stderr",
     "output_type": "stream",
     "text": [
      "[nltk_data] Downloading package punkt to\n",
      "[nltk_data]     C:\\Users\\hp\\AppData\\Roaming\\nltk_data...\n",
      "[nltk_data]   Package punkt is already up-to-date!\n",
      "[nltk_data] Downloading package stopwords to\n",
      "[nltk_data]     C:\\Users\\hp\\AppData\\Roaming\\nltk_data...\n",
      "[nltk_data]   Package stopwords is already up-to-date!\n"
     ]
    }
   ],
   "source": [
    "# Download the necessary libraries and packages\n",
    "import pandas as pd\n",
    "import numpy as np\n",
    "import matplotlib.pyplot as plt\n",
    "import seaborn as sns\n",
    "import warnings\n",
    "warnings.filterwarnings('ignore')\n",
    "\n",
    "from sklearn.pipeline import Pipeline\n",
    "from sklearn.impute import SimpleImputer\n",
    "from sklearn.preprocessing import StandardScaler\n",
    "from sklearn.neighbors import KNeighborsClassifier\n",
    "\n",
    "from sklearn.model_selection import train_test_split, GridSearchCV\n",
    "\n",
    "from sklearn.metrics import accuracy_score, confusion_matrix, ConfusionMatrixDisplay, classification_report, silhouette_score\n",
    "\n",
    "import nltk\n",
    "import re\n",
    "nltk.download('punkt')\n",
    "from nltk.tokenize import word_tokenize\n",
    "nltk.download('stopwords')\n",
    "from nltk.corpus import stopwords\n",
    "from nltk.stem import SnowballStemmer\n",
    "\n",
    "from sklearn.feature_extraction.text import TfidfVectorizer\n",
    "from sklearn.naive_bayes import MultinomialNB\n",
    "\n",
    "from sklearn.cluster import KMeans"
   ]
  },
  {
   "cell_type": "code",
   "execution_count": 64,
   "metadata": {
    "colab": {
     "base_uri": "https://localhost:8080/",
     "height": 206
    },
    "id": "5mAlANbEJZ_I",
    "outputId": "4f05aa9b-7ebf-4465-8e9f-132dd195b2ae"
   },
   "outputs": [
    {
     "data": {
      "text/html": [
       "<div>\n",
       "<style scoped>\n",
       "    .dataframe tbody tr th:only-of-type {\n",
       "        vertical-align: middle;\n",
       "    }\n",
       "\n",
       "    .dataframe tbody tr th {\n",
       "        vertical-align: top;\n",
       "    }\n",
       "\n",
       "    .dataframe thead th {\n",
       "        text-align: right;\n",
       "    }\n",
       "</style>\n",
       "<table border=\"1\" class=\"dataframe\">\n",
       "  <thead>\n",
       "    <tr style=\"text-align: right;\">\n",
       "      <th></th>\n",
       "      <th>tweet_text</th>\n",
       "      <th>emotion_in_tweet_is_directed_at</th>\n",
       "      <th>is_there_an_emotion_directed_at_a_brand_or_product</th>\n",
       "    </tr>\n",
       "  </thead>\n",
       "  <tbody>\n",
       "    <tr>\n",
       "      <th>0</th>\n",
       "      <td>.@wesley83 I have a 3G iPhone. After 3 hrs twe...</td>\n",
       "      <td>iPhone</td>\n",
       "      <td>Negative emotion</td>\n",
       "    </tr>\n",
       "    <tr>\n",
       "      <th>1</th>\n",
       "      <td>@jessedee Know about @fludapp ? Awesome iPad/i...</td>\n",
       "      <td>iPad or iPhone App</td>\n",
       "      <td>Positive emotion</td>\n",
       "    </tr>\n",
       "    <tr>\n",
       "      <th>2</th>\n",
       "      <td>@swonderlin Can not wait for #iPad 2 also. The...</td>\n",
       "      <td>iPad</td>\n",
       "      <td>Positive emotion</td>\n",
       "    </tr>\n",
       "    <tr>\n",
       "      <th>3</th>\n",
       "      <td>@sxsw I hope this year's festival isn't as cra...</td>\n",
       "      <td>iPad or iPhone App</td>\n",
       "      <td>Negative emotion</td>\n",
       "    </tr>\n",
       "    <tr>\n",
       "      <th>4</th>\n",
       "      <td>@sxtxstate great stuff on Fri #SXSW: Marissa M...</td>\n",
       "      <td>Google</td>\n",
       "      <td>Positive emotion</td>\n",
       "    </tr>\n",
       "  </tbody>\n",
       "</table>\n",
       "</div>"
      ],
      "text/plain": [
       "                                          tweet_text  \\\n",
       "0  .@wesley83 I have a 3G iPhone. After 3 hrs twe...   \n",
       "1  @jessedee Know about @fludapp ? Awesome iPad/i...   \n",
       "2  @swonderlin Can not wait for #iPad 2 also. The...   \n",
       "3  @sxsw I hope this year's festival isn't as cra...   \n",
       "4  @sxtxstate great stuff on Fri #SXSW: Marissa M...   \n",
       "\n",
       "  emotion_in_tweet_is_directed_at  \\\n",
       "0                          iPhone   \n",
       "1              iPad or iPhone App   \n",
       "2                            iPad   \n",
       "3              iPad or iPhone App   \n",
       "4                          Google   \n",
       "\n",
       "  is_there_an_emotion_directed_at_a_brand_or_product  \n",
       "0                                   Negative emotion  \n",
       "1                                   Positive emotion  \n",
       "2                                   Positive emotion  \n",
       "3                                   Negative emotion  \n",
       "4                                   Positive emotion  "
      ]
     },
     "execution_count": 64,
     "metadata": {},
     "output_type": "execute_result"
    }
   ],
   "source": [
    "#load the data\n",
    "\n",
    "df = pd.read_csv(\"judge-1377884607_tweet_product_company.csv\",encoding='latin-1')\n",
    "df.head()"
   ]
  },
  {
   "cell_type": "code",
   "execution_count": 65,
   "metadata": {
    "colab": {
     "base_uri": "https://localhost:8080/"
    },
    "id": "UNBvZ6bCKVR3",
    "outputId": "e02b8038-43cf-4401-dfb7-73266463e1a2"
   },
   "outputs": [
    {
     "data": {
      "text/plain": [
       "(9093, 3)"
      ]
     },
     "execution_count": 65,
     "metadata": {},
     "output_type": "execute_result"
    }
   ],
   "source": [
    "#shape of the data set\n",
    "df.shape"
   ]
  },
  {
   "cell_type": "code",
   "execution_count": 66,
   "metadata": {
    "colab": {
     "base_uri": "https://localhost:8080/"
    },
    "id": "fbSr35jFKY_2",
    "outputId": "235b9d53-15fb-479c-8b34-a5b74bf762bf"
   },
   "outputs": [
    {
     "name": "stdout",
     "output_type": "stream",
     "text": [
      "<class 'pandas.core.frame.DataFrame'>\n",
      "RangeIndex: 9093 entries, 0 to 9092\n",
      "Data columns (total 3 columns):\n",
      " #   Column                                              Non-Null Count  Dtype \n",
      "---  ------                                              --------------  ----- \n",
      " 0   tweet_text                                          9092 non-null   object\n",
      " 1   emotion_in_tweet_is_directed_at                     3291 non-null   object\n",
      " 2   is_there_an_emotion_directed_at_a_brand_or_product  9093 non-null   object\n",
      "dtypes: object(3)\n",
      "memory usage: 213.2+ KB\n"
     ]
    }
   ],
   "source": [
    "# Display information about the dataframe\n",
    "df.info()"
   ]
  },
  {
   "cell_type": "code",
   "execution_count": 67,
   "metadata": {
    "colab": {
     "base_uri": "https://localhost:8080/",
     "height": 178
    },
    "id": "cPfrFtNwKvF-",
    "outputId": "257dcc75-543d-446c-bd78-62702f04b1d7"
   },
   "outputs": [
    {
     "data": {
      "text/plain": [
       "tweet_text                                               1\n",
       "emotion_in_tweet_is_directed_at                       5802\n",
       "is_there_an_emotion_directed_at_a_brand_or_product       0\n",
       "dtype: int64"
      ]
     },
     "execution_count": 67,
     "metadata": {},
     "output_type": "execute_result"
    }
   ],
   "source": [
    "#checking for missing values\n",
    "df.isnull().sum()"
   ]
  },
  {
   "cell_type": "code",
   "execution_count": 68,
   "metadata": {
    "id": "xmIDkIwby0GS"
   },
   "outputs": [],
   "source": [
    "# We drop the missing row\n",
    "df = df[df[\"tweet_text\"].notnull()].reset_index(drop=True)"
   ]
  },
  {
   "cell_type": "code",
   "execution_count": 69,
   "metadata": {
    "colab": {
     "base_uri": "https://localhost:8080/"
    },
    "id": "5WtFr7lqy0GT",
    "outputId": "5be7ffd1-9d5d-4bd6-d059-bd06b105545e"
   },
   "outputs": [
    {
     "name": "stdout",
     "output_type": "stream",
     "text": [
      "22\n"
     ]
    }
   ],
   "source": [
    "# Check for duplicates\n",
    "print(df.duplicated().sum())"
   ]
  },
  {
   "cell_type": "code",
   "execution_count": 70,
   "metadata": {
    "id": "m0IAIDZty0GU"
   },
   "outputs": [],
   "source": [
    "# Drop duplicates\n",
    "df.drop_duplicates(inplace=True)"
   ]
  },
  {
   "cell_type": "code",
   "execution_count": 71,
   "metadata": {
    "colab": {
     "base_uri": "https://localhost:8080/",
     "height": 206
    },
    "id": "YT_REjSBy0GV",
    "outputId": "0575ae23-4a56-41fa-fd5f-59c4bae37957"
   },
   "outputs": [
    {
     "data": {
      "text/html": [
       "<div>\n",
       "<style scoped>\n",
       "    .dataframe tbody tr th:only-of-type {\n",
       "        vertical-align: middle;\n",
       "    }\n",
       "\n",
       "    .dataframe tbody tr th {\n",
       "        vertical-align: top;\n",
       "    }\n",
       "\n",
       "    .dataframe thead th {\n",
       "        text-align: right;\n",
       "    }\n",
       "</style>\n",
       "<table border=\"1\" class=\"dataframe\">\n",
       "  <thead>\n",
       "    <tr style=\"text-align: right;\">\n",
       "      <th></th>\n",
       "      <th>tweet_text</th>\n",
       "      <th>emotion_in_tweet_is_directed_at</th>\n",
       "      <th>is_there_an_emotion_directed_at_a_brand_or_product</th>\n",
       "    </tr>\n",
       "  </thead>\n",
       "  <tbody>\n",
       "    <tr>\n",
       "      <th>0</th>\n",
       "      <td>.@wesley83 I have a 3G iPhone. After 3 hrs twe...</td>\n",
       "      <td>iPhone</td>\n",
       "      <td>Negative emotion</td>\n",
       "    </tr>\n",
       "    <tr>\n",
       "      <th>1</th>\n",
       "      <td>@jessedee Know about @fludapp ? Awesome iPad/i...</td>\n",
       "      <td>iPad or iPhone App</td>\n",
       "      <td>Positive emotion</td>\n",
       "    </tr>\n",
       "    <tr>\n",
       "      <th>2</th>\n",
       "      <td>@swonderlin Can not wait for #iPad 2 also. The...</td>\n",
       "      <td>iPad</td>\n",
       "      <td>Positive emotion</td>\n",
       "    </tr>\n",
       "    <tr>\n",
       "      <th>3</th>\n",
       "      <td>@sxsw I hope this year's festival isn't as cra...</td>\n",
       "      <td>iPad or iPhone App</td>\n",
       "      <td>Negative emotion</td>\n",
       "    </tr>\n",
       "    <tr>\n",
       "      <th>4</th>\n",
       "      <td>@sxtxstate great stuff on Fri #SXSW: Marissa M...</td>\n",
       "      <td>Google</td>\n",
       "      <td>Positive emotion</td>\n",
       "    </tr>\n",
       "  </tbody>\n",
       "</table>\n",
       "</div>"
      ],
      "text/plain": [
       "                                          tweet_text  \\\n",
       "0  .@wesley83 I have a 3G iPhone. After 3 hrs twe...   \n",
       "1  @jessedee Know about @fludapp ? Awesome iPad/i...   \n",
       "2  @swonderlin Can not wait for #iPad 2 also. The...   \n",
       "3  @sxsw I hope this year's festival isn't as cra...   \n",
       "4  @sxtxstate great stuff on Fri #SXSW: Marissa M...   \n",
       "\n",
       "  emotion_in_tweet_is_directed_at  \\\n",
       "0                          iPhone   \n",
       "1              iPad or iPhone App   \n",
       "2                            iPad   \n",
       "3              iPad or iPhone App   \n",
       "4                          Google   \n",
       "\n",
       "  is_there_an_emotion_directed_at_a_brand_or_product  \n",
       "0                                   Negative emotion  \n",
       "1                                   Positive emotion  \n",
       "2                                   Positive emotion  \n",
       "3                                   Negative emotion  \n",
       "4                                   Positive emotion  "
      ]
     },
     "execution_count": 71,
     "metadata": {},
     "output_type": "execute_result"
    }
   ],
   "source": [
    "# Display first few rows of the dataframe\n",
    "df.head()"
   ]
  },
  {
   "cell_type": "code",
   "execution_count": 72,
   "metadata": {
    "colab": {
     "base_uri": "https://localhost:8080/"
    },
    "id": "cd9XS7Yj3mTx",
    "outputId": "3a92d38e-3e55-4f85-fcfe-c6b1f2494051"
   },
   "outputs": [
    {
     "name": "stderr",
     "output_type": "stream",
     "text": [
      "[nltk_data] Downloading package punkt_tab to\n",
      "[nltk_data]     C:\\Users\\hp\\AppData\\Roaming\\nltk_data...\n",
      "[nltk_data]   Package punkt_tab is already up-to-date!\n"
     ]
    },
    {
     "data": {
      "text/plain": [
       "True"
      ]
     },
     "execution_count": 72,
     "metadata": {},
     "output_type": "execute_result"
    }
   ],
   "source": [
    "# Download 'punkt_tab' resource from nltk\n",
    "import nltk\n",
    "nltk.download('punkt_tab')"
   ]
  },
  {
   "cell_type": "code",
   "execution_count": 73,
   "metadata": {
    "id": "qkbRzLz0y0GY"
   },
   "outputs": [],
   "source": [
    " def tokenize_and_preprocess(reviews):\n",
    "    # Get English stop words\n",
    "    stop_words = stopwords.words('english')\n",
    "    patt = re.compile(r'\\b(' + r'|'.join(stop_words) + r')\\b\\s+') # Regular expression pattern for stop words\n",
    "\n",
    "    # Preprocessing steps (lowercase, remove numbers, remove stopwords)\n",
    "    preproc_step1 = df.tweet_text.str.lower().str.replace(\n",
    "        r'[0-9]+', '',regex = True).str.replace(patt, '', regex = True)\n",
    "\n",
    "   # Tokenize the text using word_tokenize\n",
    "    preproc1_tokenized = preproc_step1.apply(word_tokenize)\n",
    "\n",
    "\n",
    "    # processes further by stemming and removing non-alphabetic characters\n",
    "\n",
    "    def remove_punct_and_stem(doc_tokenized):\n",
    "\n",
    "        # Initialize Snowball stemmer\n",
    "        stemmer = SnowballStemmer('english')\n",
    "        # Remove URLs\n",
    "        doc_tokenized = [word for word in doc_tokenized if not word.startswith(('http', 'www'))]\n",
    "        # Remove mentions and hashtags\n",
    "        doc_tokenized = [word for word in doc_tokenized if not word.startswith(('@', '#'))]\n",
    "        doc_tokenized = [word for word in doc_tokenized if '@' not in word and '#' not in word]\n",
    "        # Remove non-alphabetic characters\n",
    "        doc_tokenized = [word for word in doc_tokenized if word.isalpha()]\n",
    "        # Apply stemming\n",
    "        filtered_stemmed_tok = [stemmer.stem(tok) for tok in doc_tokenized if tok.isalpha()]\n",
    "        return \" \".join(filtered_stemmed_tok)\n",
    "        filtered_stemmed_tok = [stemmer.stem(tok) for tok in doc_tokenized if tok.isalpha() ]\n",
    "\n",
    "        return \" \".join(filtered_stemmed_tok)\n",
    "\n",
    "    # Apply the text preprocessing steps to each tokenized tweet\n",
    "    preprocessed = preproc1_tokenized.apply(remove_punct_and_stem)\n",
    "\n",
    "    return preprocessed\n",
    "# Apply the preprocessing function and store the result in a new column\n",
    "df['preprocessed_text'] =tokenize_and_preprocess(df.tweet_text)"
   ]
  },
  {
   "cell_type": "code",
   "execution_count": 74,
   "metadata": {
    "colab": {
     "base_uri": "https://localhost:8080/",
     "height": 206
    },
    "id": "hnLndDgNy0Ga",
    "outputId": "2fbb38c3-82fe-4774-d3c2-dd9a863c8d8e"
   },
   "outputs": [
    {
     "data": {
      "text/html": [
       "<div>\n",
       "<style scoped>\n",
       "    .dataframe tbody tr th:only-of-type {\n",
       "        vertical-align: middle;\n",
       "    }\n",
       "\n",
       "    .dataframe tbody tr th {\n",
       "        vertical-align: top;\n",
       "    }\n",
       "\n",
       "    .dataframe thead th {\n",
       "        text-align: right;\n",
       "    }\n",
       "</style>\n",
       "<table border=\"1\" class=\"dataframe\">\n",
       "  <thead>\n",
       "    <tr style=\"text-align: right;\">\n",
       "      <th></th>\n",
       "      <th>tweet_text</th>\n",
       "      <th>emotion_in_tweet_is_directed_at</th>\n",
       "      <th>is_there_an_emotion_directed_at_a_brand_or_product</th>\n",
       "      <th>preprocessed_text</th>\n",
       "    </tr>\n",
       "  </thead>\n",
       "  <tbody>\n",
       "    <tr>\n",
       "      <th>0</th>\n",
       "      <td>.@wesley83 I have a 3G iPhone. After 3 hrs twe...</td>\n",
       "      <td>iPhone</td>\n",
       "      <td>Negative emotion</td>\n",
       "      <td>wesley g iphon hrs tweet dead need upgrad plug...</td>\n",
       "    </tr>\n",
       "    <tr>\n",
       "      <th>1</th>\n",
       "      <td>@jessedee Know about @fludapp ? Awesome iPad/i...</td>\n",
       "      <td>iPad or iPhone App</td>\n",
       "      <td>Positive emotion</td>\n",
       "      <td>jessede know fludapp awesom app like appreci d...</td>\n",
       "    </tr>\n",
       "    <tr>\n",
       "      <th>2</th>\n",
       "      <td>@swonderlin Can not wait for #iPad 2 also. The...</td>\n",
       "      <td>iPad</td>\n",
       "      <td>Positive emotion</td>\n",
       "      <td>swonderlin wait ipad also sale sxsw</td>\n",
       "    </tr>\n",
       "    <tr>\n",
       "      <th>3</th>\n",
       "      <td>@sxsw I hope this year's festival isn't as cra...</td>\n",
       "      <td>iPad or iPhone App</td>\n",
       "      <td>Negative emotion</td>\n",
       "      <td>sxsw hope crashi app sxsw</td>\n",
       "    </tr>\n",
       "    <tr>\n",
       "      <th>4</th>\n",
       "      <td>@sxtxstate great stuff on Fri #SXSW: Marissa M...</td>\n",
       "      <td>Google</td>\n",
       "      <td>Positive emotion</td>\n",
       "      <td>sxtxstate great stuff fri sxsw marissa mayer g...</td>\n",
       "    </tr>\n",
       "  </tbody>\n",
       "</table>\n",
       "</div>"
      ],
      "text/plain": [
       "                                          tweet_text  \\\n",
       "0  .@wesley83 I have a 3G iPhone. After 3 hrs twe...   \n",
       "1  @jessedee Know about @fludapp ? Awesome iPad/i...   \n",
       "2  @swonderlin Can not wait for #iPad 2 also. The...   \n",
       "3  @sxsw I hope this year's festival isn't as cra...   \n",
       "4  @sxtxstate great stuff on Fri #SXSW: Marissa M...   \n",
       "\n",
       "  emotion_in_tweet_is_directed_at  \\\n",
       "0                          iPhone   \n",
       "1              iPad or iPhone App   \n",
       "2                            iPad   \n",
       "3              iPad or iPhone App   \n",
       "4                          Google   \n",
       "\n",
       "  is_there_an_emotion_directed_at_a_brand_or_product  \\\n",
       "0                                   Negative emotion   \n",
       "1                                   Positive emotion   \n",
       "2                                   Positive emotion   \n",
       "3                                   Negative emotion   \n",
       "4                                   Positive emotion   \n",
       "\n",
       "                                   preprocessed_text  \n",
       "0  wesley g iphon hrs tweet dead need upgrad plug...  \n",
       "1  jessede know fludapp awesom app like appreci d...  \n",
       "2                swonderlin wait ipad also sale sxsw  \n",
       "3                          sxsw hope crashi app sxsw  \n",
       "4  sxtxstate great stuff fri sxsw marissa mayer g...  "
      ]
     },
     "execution_count": 74,
     "metadata": {},
     "output_type": "execute_result"
    }
   ],
   "source": [
    "# Display first few rows of updated dataframe\n",
    "df.head()"
   ]
  },
  {
   "cell_type": "code",
   "execution_count": 75,
   "metadata": {
    "colab": {
     "base_uri": "https://localhost:8080/"
    },
    "id": "Xact3Uo5y0Gc",
    "outputId": "e56ef6bd-9f17-46f5-dca0-54c60384657e"
   },
   "outputs": [
    {
     "name": "stdout",
     "output_type": "stream",
     "text": [
      "<class 'pandas.core.frame.DataFrame'>\n",
      "Int64Index: 9070 entries, 0 to 9091\n",
      "Data columns (total 4 columns):\n",
      " #   Column                                              Non-Null Count  Dtype \n",
      "---  ------                                              --------------  ----- \n",
      " 0   tweet_text                                          9070 non-null   object\n",
      " 1   emotion_in_tweet_is_directed_at                     3282 non-null   object\n",
      " 2   is_there_an_emotion_directed_at_a_brand_or_product  9070 non-null   object\n",
      " 3   preprocessed_text                                   9070 non-null   object\n",
      "dtypes: object(4)\n",
      "memory usage: 354.3+ KB\n"
     ]
    }
   ],
   "source": [
    "# Display updated dataframe information\n",
    "df.info()"
   ]
  },
  {
   "cell_type": "code",
   "execution_count": 76,
   "metadata": {
    "colab": {
     "base_uri": "https://localhost:8080/"
    },
    "id": "5izVsGryy0Gd",
    "outputId": "ab0c97db-e27c-4408-e582-3888456e7f65"
   },
   "outputs": [
    {
     "data": {
      "text/plain": [
       "array(['Negative emotion', 'Positive emotion',\n",
       "       'No emotion toward brand or product', \"I can't tell\"], dtype=object)"
      ]
     },
     "execution_count": 76,
     "metadata": {},
     "output_type": "execute_result"
    }
   ],
   "source": [
    "# Display unique values in 'is_there_an_emotion_directed_at_a_brand_or_product' column\n",
    "df['is_there_an_emotion_directed_at_a_brand_or_product'].unique()"
   ]
  },
  {
   "cell_type": "code",
   "execution_count": 77,
   "metadata": {
    "colab": {
     "base_uri": "https://localhost:8080/",
     "height": 241
    },
    "id": "g8_9-dEOy0Ge",
    "outputId": "4c7d099e-0eb2-4585-89cc-9f4751f2da39"
   },
   "outputs": [
    {
     "data": {
      "text/plain": [
       "No emotion toward brand or product    5375\n",
       "Positive emotion                      2970\n",
       "Negative emotion                       569\n",
       "I can't tell                           156\n",
       "Name: is_there_an_emotion_directed_at_a_brand_or_product, dtype: int64"
      ]
     },
     "execution_count": 77,
     "metadata": {},
     "output_type": "execute_result"
    }
   ],
   "source": [
    "\n",
    "# Display the count of each unique value\n",
    "df['is_there_an_emotion_directed_at_a_brand_or_product'].value_counts()"
   ]
  },
  {
   "cell_type": "raw",
   "metadata": {
    "id": "cnGHbndEy0Gf"
   },
   "source": [
    "Based on the above, our dataset is imbalanced, with the majority of tweets falling under \"No emotion toward brand or product.\" This imbalance will greatly affect model performance"
   ]
  },
  {
   "cell_type": "code",
   "execution_count": 78,
   "metadata": {
    "colab": {
     "base_uri": "https://localhost:8080/",
     "height": 293
    },
    "id": "zZz-R5JEy0Gg",
    "outputId": "b9d5dad1-1728-454d-ecbe-838a65b2e593"
   },
   "outputs": [
    {
     "name": "stdout",
     "output_type": "stream",
     "text": [
      " 0    5531\n",
      " 1    2970\n",
      "-1     569\n",
      "Name: emotions, dtype: int64\n"
     ]
    },
    {
     "data": {
      "text/html": [
       "<div>\n",
       "<style scoped>\n",
       "    .dataframe tbody tr th:only-of-type {\n",
       "        vertical-align: middle;\n",
       "    }\n",
       "\n",
       "    .dataframe tbody tr th {\n",
       "        vertical-align: top;\n",
       "    }\n",
       "\n",
       "    .dataframe thead th {\n",
       "        text-align: right;\n",
       "    }\n",
       "</style>\n",
       "<table border=\"1\" class=\"dataframe\">\n",
       "  <thead>\n",
       "    <tr style=\"text-align: right;\">\n",
       "      <th></th>\n",
       "      <th>tweet_text</th>\n",
       "      <th>emotion_in_tweet_is_directed_at</th>\n",
       "      <th>is_there_an_emotion_directed_at_a_brand_or_product</th>\n",
       "      <th>preprocessed_text</th>\n",
       "      <th>emotions</th>\n",
       "    </tr>\n",
       "  </thead>\n",
       "  <tbody>\n",
       "    <tr>\n",
       "      <th>0</th>\n",
       "      <td>.@wesley83 I have a 3G iPhone. After 3 hrs twe...</td>\n",
       "      <td>iPhone</td>\n",
       "      <td>Negative emotion</td>\n",
       "      <td>wesley g iphon hrs tweet dead need upgrad plug...</td>\n",
       "      <td>-1</td>\n",
       "    </tr>\n",
       "    <tr>\n",
       "      <th>1</th>\n",
       "      <td>@jessedee Know about @fludapp ? Awesome iPad/i...</td>\n",
       "      <td>iPad or iPhone App</td>\n",
       "      <td>Positive emotion</td>\n",
       "      <td>jessede know fludapp awesom app like appreci d...</td>\n",
       "      <td>1</td>\n",
       "    </tr>\n",
       "    <tr>\n",
       "      <th>2</th>\n",
       "      <td>@swonderlin Can not wait for #iPad 2 also. The...</td>\n",
       "      <td>iPad</td>\n",
       "      <td>Positive emotion</td>\n",
       "      <td>swonderlin wait ipad also sale sxsw</td>\n",
       "      <td>1</td>\n",
       "    </tr>\n",
       "    <tr>\n",
       "      <th>3</th>\n",
       "      <td>@sxsw I hope this year's festival isn't as cra...</td>\n",
       "      <td>iPad or iPhone App</td>\n",
       "      <td>Negative emotion</td>\n",
       "      <td>sxsw hope crashi app sxsw</td>\n",
       "      <td>-1</td>\n",
       "    </tr>\n",
       "    <tr>\n",
       "      <th>4</th>\n",
       "      <td>@sxtxstate great stuff on Fri #SXSW: Marissa M...</td>\n",
       "      <td>Google</td>\n",
       "      <td>Positive emotion</td>\n",
       "      <td>sxtxstate great stuff fri sxsw marissa mayer g...</td>\n",
       "      <td>1</td>\n",
       "    </tr>\n",
       "  </tbody>\n",
       "</table>\n",
       "</div>"
      ],
      "text/plain": [
       "                                          tweet_text  \\\n",
       "0  .@wesley83 I have a 3G iPhone. After 3 hrs twe...   \n",
       "1  @jessedee Know about @fludapp ? Awesome iPad/i...   \n",
       "2  @swonderlin Can not wait for #iPad 2 also. The...   \n",
       "3  @sxsw I hope this year's festival isn't as cra...   \n",
       "4  @sxtxstate great stuff on Fri #SXSW: Marissa M...   \n",
       "\n",
       "  emotion_in_tweet_is_directed_at  \\\n",
       "0                          iPhone   \n",
       "1              iPad or iPhone App   \n",
       "2                            iPad   \n",
       "3              iPad or iPhone App   \n",
       "4                          Google   \n",
       "\n",
       "  is_there_an_emotion_directed_at_a_brand_or_product  \\\n",
       "0                                   Negative emotion   \n",
       "1                                   Positive emotion   \n",
       "2                                   Positive emotion   \n",
       "3                                   Negative emotion   \n",
       "4                                   Positive emotion   \n",
       "\n",
       "                                   preprocessed_text  emotions  \n",
       "0  wesley g iphon hrs tweet dead need upgrad plug...        -1  \n",
       "1  jessede know fludapp awesom app like appreci d...         1  \n",
       "2                swonderlin wait ipad also sale sxsw         1  \n",
       "3                          sxsw hope crashi app sxsw        -1  \n",
       "4  sxtxstate great stuff fri sxsw marissa mayer g...         1  "
      ]
     },
     "execution_count": 78,
     "metadata": {},
     "output_type": "execute_result"
    }
   ],
   "source": [
    "# Mapping emotion labels to numerical values for the model\n",
    "# Define the mapping  to numerical values\n",
    "emotions_map = {\n",
    "    'Positive emotion': 1,\n",
    "    'Negative emotion': -1,\n",
    "    'No emotion toward brand or product': 0,\n",
    "    \"I can't tell\": 0\n",
    "}\n",
    "\n",
    "# Apply the mapping to create a new column 'emotion_label'\n",
    "df['emotions'] = df['is_there_an_emotion_directed_at_a_brand_or_product'].map(emotions_map)\n",
    "print(df['emotions'].value_counts())\n",
    "\n",
    "df.head()"
   ]
  },
  {
   "cell_type": "code",
   "execution_count": 79,
   "metadata": {
    "colab": {
     "base_uri": "https://localhost:8080/",
     "height": 206
    },
    "id": "cS_jXOfLy0Gh",
    "outputId": "700166aa-1d61-416c-c06d-a6953ff807bd"
   },
   "outputs": [
    {
     "data": {
      "text/html": [
       "<div>\n",
       "<style scoped>\n",
       "    .dataframe tbody tr th:only-of-type {\n",
       "        vertical-align: middle;\n",
       "    }\n",
       "\n",
       "    .dataframe tbody tr th {\n",
       "        vertical-align: top;\n",
       "    }\n",
       "\n",
       "    .dataframe thead th {\n",
       "        text-align: right;\n",
       "    }\n",
       "</style>\n",
       "<table border=\"1\" class=\"dataframe\">\n",
       "  <thead>\n",
       "    <tr style=\"text-align: right;\">\n",
       "      <th></th>\n",
       "      <th>preprocessed_text</th>\n",
       "      <th>emotions</th>\n",
       "    </tr>\n",
       "  </thead>\n",
       "  <tbody>\n",
       "    <tr>\n",
       "      <th>0</th>\n",
       "      <td>wesley g iphon hrs tweet dead need upgrad plug...</td>\n",
       "      <td>-1</td>\n",
       "    </tr>\n",
       "    <tr>\n",
       "      <th>1</th>\n",
       "      <td>jessede know fludapp awesom app like appreci d...</td>\n",
       "      <td>1</td>\n",
       "    </tr>\n",
       "    <tr>\n",
       "      <th>2</th>\n",
       "      <td>swonderlin wait ipad also sale sxsw</td>\n",
       "      <td>1</td>\n",
       "    </tr>\n",
       "    <tr>\n",
       "      <th>3</th>\n",
       "      <td>sxsw hope crashi app sxsw</td>\n",
       "      <td>-1</td>\n",
       "    </tr>\n",
       "    <tr>\n",
       "      <th>4</th>\n",
       "      <td>sxtxstate great stuff fri sxsw marissa mayer g...</td>\n",
       "      <td>1</td>\n",
       "    </tr>\n",
       "  </tbody>\n",
       "</table>\n",
       "</div>"
      ],
      "text/plain": [
       "                                   preprocessed_text  emotions\n",
       "0  wesley g iphon hrs tweet dead need upgrad plug...        -1\n",
       "1  jessede know fludapp awesom app like appreci d...         1\n",
       "2                swonderlin wait ipad also sale sxsw         1\n",
       "3                          sxsw hope crashi app sxsw        -1\n",
       "4  sxtxstate great stuff fri sxsw marissa mayer g...         1"
      ]
     },
     "execution_count": 79,
     "metadata": {},
     "output_type": "execute_result"
    }
   ],
   "source": [
    "# Drop unnecessary columns and display the first few columns in the dataframe\n",
    "df=df.drop(columns=['tweet_text','emotion_in_tweet_is_directed_at','is_there_an_emotion_directed_at_a_brand_or_product'])\n",
    "df.head()"
   ]
  },
  {
   "cell_type": "code",
   "execution_count": 80,
   "metadata": {
    "colab": {
     "base_uri": "https://localhost:8080/"
    },
    "id": "qvkxYroQy0Gi",
    "outputId": "b46fd0cf-8e70-42e9-cfd8-4e36800b35d0"
   },
   "outputs": [
    {
     "name": "stdout",
     "output_type": "stream",
     "text": [
      "{-1: 5.3134153485647335, 0: 0.5466160429096607, 1: 1.0179573512906845}\n"
     ]
    }
   ],
   "source": [
    "#Due to the class imbalance, we use a combination of oversampling the Negative class and class weighting technique\n",
    "# Calculate class weights for handling class imbalance\n",
    "\n",
    "from sklearn.utils import class_weight\n",
    "\n",
    "\n",
    "class_weights = class_weight.compute_class_weight(\n",
    "    class_weight='balanced',\n",
    "    classes=np.unique(df['emotions']),\n",
    "    y=df['emotions']\n",
    ")\n",
    "\n",
    "# Create a dictionary mapping class labels to their corresponding weights\n",
    "class_weights_dict = dict(zip(np.unique(df['emotions']), class_weights))\n",
    "\n",
    "print(class_weights_dict)"
   ]
  },
  {
   "cell_type": "code",
   "execution_count": 81,
   "metadata": {},
   "outputs": [],
   "source": [
    "#To retrieve the count of emotions oer category\n",
    "from collections import Counter\n",
    "df['tokens'] = df['preprocessed_text'].apply(lambda x: x.split())\n",
    "\n",
    "# Create a function to get top words per emotion category\n",
    "def get_top_words(df, emotion, n=10):\n",
    "    tokens = df[df['emotions'] == emotion]['tokens'].sum()\n",
    "    counter = Counter(tokens)\n",
    "    return counter.most_common(n)\n",
    "    \n",
    "# Get top 10 words for each sentiment\n",
    "top_neg = get_top_words(df, -1)\n",
    "top_neu = get_top_words(df, 0)\n",
    "top_pos = get_top_words(df, 1)"
   ]
  },
  {
   "cell_type": "code",
   "execution_count": 82,
   "metadata": {},
   "outputs": [
    {
     "data": {
      "text/plain": [
       "[('sxsw', 3102),\n",
       " ('mention', 2195),\n",
       " ('ipad', 1231),\n",
       " ('link', 1221),\n",
       " ('rt', 935),\n",
       " ('appl', 874),\n",
       " ('googl', 665),\n",
       " ('iphon', 522),\n",
       " ('app', 472),\n",
       " ('quot', 465)]"
      ]
     },
     "execution_count": 82,
     "metadata": {},
     "output_type": "execute_result"
    }
   ],
   "source": [
    "#view top words per each emotion\n",
    "top_neg\n",
    "\n",
    "top_neu\n",
    "\n",
    "top_pos"
   ]
  },
  {
   "cell_type": "code",
   "execution_count": 83,
   "metadata": {},
   "outputs": [
    {
     "data": {
      "text/html": [
       "<div>\n",
       "<style scoped>\n",
       "    .dataframe tbody tr th:only-of-type {\n",
       "        vertical-align: middle;\n",
       "    }\n",
       "\n",
       "    .dataframe tbody tr th {\n",
       "        vertical-align: top;\n",
       "    }\n",
       "\n",
       "    .dataframe thead th {\n",
       "        text-align: right;\n",
       "    }\n",
       "</style>\n",
       "<table border=\"1\" class=\"dataframe\">\n",
       "  <thead>\n",
       "    <tr style=\"text-align: right;\">\n",
       "      <th></th>\n",
       "      <th>word</th>\n",
       "      <th>count</th>\n",
       "      <th>emotion</th>\n",
       "    </tr>\n",
       "  </thead>\n",
       "  <tbody>\n",
       "    <tr>\n",
       "      <th>0</th>\n",
       "      <td>sxsw</td>\n",
       "      <td>578</td>\n",
       "      <td>Negative</td>\n",
       "    </tr>\n",
       "    <tr>\n",
       "      <th>1</th>\n",
       "      <td>mention</td>\n",
       "      <td>313</td>\n",
       "      <td>Negative</td>\n",
       "    </tr>\n",
       "    <tr>\n",
       "      <th>2</th>\n",
       "      <td>ipad</td>\n",
       "      <td>203</td>\n",
       "      <td>Negative</td>\n",
       "    </tr>\n",
       "    <tr>\n",
       "      <th>3</th>\n",
       "      <td>quot</td>\n",
       "      <td>175</td>\n",
       "      <td>Negative</td>\n",
       "    </tr>\n",
       "    <tr>\n",
       "      <th>4</th>\n",
       "      <td>iphon</td>\n",
       "      <td>155</td>\n",
       "      <td>Negative</td>\n",
       "    </tr>\n",
       "    <tr>\n",
       "      <th>5</th>\n",
       "      <td>googl</td>\n",
       "      <td>143</td>\n",
       "      <td>Negative</td>\n",
       "    </tr>\n",
       "    <tr>\n",
       "      <th>6</th>\n",
       "      <td>rt</td>\n",
       "      <td>138</td>\n",
       "      <td>Negative</td>\n",
       "    </tr>\n",
       "    <tr>\n",
       "      <th>7</th>\n",
       "      <td>appl</td>\n",
       "      <td>107</td>\n",
       "      <td>Negative</td>\n",
       "    </tr>\n",
       "    <tr>\n",
       "      <th>8</th>\n",
       "      <td>link</td>\n",
       "      <td>103</td>\n",
       "      <td>Negative</td>\n",
       "    </tr>\n",
       "    <tr>\n",
       "      <th>9</th>\n",
       "      <td>app</td>\n",
       "      <td>90</td>\n",
       "      <td>Negative</td>\n",
       "    </tr>\n",
       "    <tr>\n",
       "      <th>0</th>\n",
       "      <td>sxsw</td>\n",
       "      <td>5824</td>\n",
       "      <td>Neutral</td>\n",
       "    </tr>\n",
       "    <tr>\n",
       "      <th>1</th>\n",
       "      <td>mention</td>\n",
       "      <td>4612</td>\n",
       "      <td>Neutral</td>\n",
       "    </tr>\n",
       "    <tr>\n",
       "      <th>2</th>\n",
       "      <td>link</td>\n",
       "      <td>2988</td>\n",
       "      <td>Neutral</td>\n",
       "    </tr>\n",
       "    <tr>\n",
       "      <th>3</th>\n",
       "      <td>rt</td>\n",
       "      <td>1875</td>\n",
       "      <td>Neutral</td>\n",
       "    </tr>\n",
       "    <tr>\n",
       "      <th>4</th>\n",
       "      <td>googl</td>\n",
       "      <td>1623</td>\n",
       "      <td>Neutral</td>\n",
       "    </tr>\n",
       "    <tr>\n",
       "      <th>5</th>\n",
       "      <td>ipad</td>\n",
       "      <td>1528</td>\n",
       "      <td>Neutral</td>\n",
       "    </tr>\n",
       "    <tr>\n",
       "      <th>6</th>\n",
       "      <td>appl</td>\n",
       "      <td>1177</td>\n",
       "      <td>Neutral</td>\n",
       "    </tr>\n",
       "    <tr>\n",
       "      <th>7</th>\n",
       "      <td>quot</td>\n",
       "      <td>1062</td>\n",
       "      <td>Neutral</td>\n",
       "    </tr>\n",
       "    <tr>\n",
       "      <th>8</th>\n",
       "      <td>iphon</td>\n",
       "      <td>844</td>\n",
       "      <td>Neutral</td>\n",
       "    </tr>\n",
       "    <tr>\n",
       "      <th>9</th>\n",
       "      <td>store</td>\n",
       "      <td>763</td>\n",
       "      <td>Neutral</td>\n",
       "    </tr>\n",
       "    <tr>\n",
       "      <th>0</th>\n",
       "      <td>sxsw</td>\n",
       "      <td>3102</td>\n",
       "      <td>Positive</td>\n",
       "    </tr>\n",
       "    <tr>\n",
       "      <th>1</th>\n",
       "      <td>mention</td>\n",
       "      <td>2195</td>\n",
       "      <td>Positive</td>\n",
       "    </tr>\n",
       "    <tr>\n",
       "      <th>2</th>\n",
       "      <td>ipad</td>\n",
       "      <td>1231</td>\n",
       "      <td>Positive</td>\n",
       "    </tr>\n",
       "    <tr>\n",
       "      <th>3</th>\n",
       "      <td>link</td>\n",
       "      <td>1221</td>\n",
       "      <td>Positive</td>\n",
       "    </tr>\n",
       "    <tr>\n",
       "      <th>4</th>\n",
       "      <td>rt</td>\n",
       "      <td>935</td>\n",
       "      <td>Positive</td>\n",
       "    </tr>\n",
       "    <tr>\n",
       "      <th>5</th>\n",
       "      <td>appl</td>\n",
       "      <td>874</td>\n",
       "      <td>Positive</td>\n",
       "    </tr>\n",
       "    <tr>\n",
       "      <th>6</th>\n",
       "      <td>googl</td>\n",
       "      <td>665</td>\n",
       "      <td>Positive</td>\n",
       "    </tr>\n",
       "    <tr>\n",
       "      <th>7</th>\n",
       "      <td>iphon</td>\n",
       "      <td>522</td>\n",
       "      <td>Positive</td>\n",
       "    </tr>\n",
       "    <tr>\n",
       "      <th>8</th>\n",
       "      <td>app</td>\n",
       "      <td>472</td>\n",
       "      <td>Positive</td>\n",
       "    </tr>\n",
       "    <tr>\n",
       "      <th>9</th>\n",
       "      <td>quot</td>\n",
       "      <td>465</td>\n",
       "      <td>Positive</td>\n",
       "    </tr>\n",
       "  </tbody>\n",
       "</table>\n",
       "</div>"
      ],
      "text/plain": [
       "      word  count   emotion\n",
       "0     sxsw    578  Negative\n",
       "1  mention    313  Negative\n",
       "2     ipad    203  Negative\n",
       "3     quot    175  Negative\n",
       "4    iphon    155  Negative\n",
       "5    googl    143  Negative\n",
       "6       rt    138  Negative\n",
       "7     appl    107  Negative\n",
       "8     link    103  Negative\n",
       "9      app     90  Negative\n",
       "0     sxsw   5824   Neutral\n",
       "1  mention   4612   Neutral\n",
       "2     link   2988   Neutral\n",
       "3       rt   1875   Neutral\n",
       "4    googl   1623   Neutral\n",
       "5     ipad   1528   Neutral\n",
       "6     appl   1177   Neutral\n",
       "7     quot   1062   Neutral\n",
       "8    iphon    844   Neutral\n",
       "9    store    763   Neutral\n",
       "0     sxsw   3102  Positive\n",
       "1  mention   2195  Positive\n",
       "2     ipad   1231  Positive\n",
       "3     link   1221  Positive\n",
       "4       rt    935  Positive\n",
       "5     appl    874  Positive\n",
       "6    googl    665  Positive\n",
       "7    iphon    522  Positive\n",
       "8      app    472  Positive\n",
       "9     quot    465  Positive"
      ]
     },
     "execution_count": 83,
     "metadata": {},
     "output_type": "execute_result"
    }
   ],
   "source": [
    "# Combine the three into a DataFrame\n",
    "def to_df(word_list, label):\n",
    "    words, counts = zip(*word_list)\n",
    "    return pd.DataFrame({'word': words, 'count': counts, 'emotion': label})\n",
    "\n",
    "df_plot = pd.concat([\n",
    "    to_df(top_neg, 'Negative'),\n",
    "    to_df(top_neu, 'Neutral'),\n",
    "    to_df(top_pos, 'Positive')\n",
    "])\n",
    "\n",
    "df_plot"
   ]
  },
  {
   "cell_type": "code",
   "execution_count": 84,
   "metadata": {},
   "outputs": [
    {
     "data": {
      "image/png": "[encoded data removed]",
      "text/plain": [
       "<Figure size 864x432 with 1 Axes>"
      ]
     },
     "metadata": {},
     "output_type": "display_data"
    }
   ],
   "source": [
    "# Plot the df\n",
    "plt.figure(figsize=(12, 6))\n",
    "sns.barplot(data=df_plot, x='word', y='count', hue='emotion')\n",
    "plt.title('Top 10 Words per Emotion Category')\n",
    "plt.xticks(rotation=45)\n",
    "plt.tight_layout()\n",
    "plt.show()"
   ]
  },
  {
   "cell_type": "markdown",
   "metadata": {
    "id": "m5QCx17Py0Gj"
   },
   "source": [
    "# **Modelling**"
   ]
  },
  {
   "cell_type": "code",
   "execution_count": 85,
   "metadata": {
    "id": "SNkQhGhVy0Gk"
   },
   "outputs": [],
   "source": [
    "from sklearn.model_selection import train_test_split\n",
    "from sklearn.linear_model import LogisticRegression\n",
    "from sklearn.ensemble import RandomForestClassifier\n",
    "from sklearn.metrics import classification_report\n",
    "from sklearn.preprocessing import LabelEncoder\n",
    "from tensorflow.keras.models import Sequential\n",
    "from tensorflow.keras.layers import Dense, Dropout, Input\n",
    "from tensorflow.keras.utils import to_categorical\n",
    "from tensorflow.keras.optimizers import Adam\n",
    "from tensorflow.keras.callbacks import EarlyStopping"
   ]
  },
  {
   "cell_type": "code",
   "execution_count": 86,
   "metadata": {
    "id": "2DYm5T5Uy0Gk"
   },
   "outputs": [],
   "source": [
    "# X is the feature matrix and y is the label vector\n",
    "# Split data into training and testing sets\n",
    "X = df['preprocessed_text']\n",
    "y = df['emotions']\n",
    "X_train, X_test, y_train, y_test = train_test_split(X, y, test_size=0.2, random_state=42)\n",
    "\n",
    "# Encoding target labels\n",
    "label_encoder = LabelEncoder()\n",
    "y_train_encoded = label_encoder.fit_transform(y_train)\n",
    "y_test_encoded = label_encoder.transform(y_test)\n",
    "X_train, X_test, y_train, y_test = train_test_split(X, y, test_size=0.2, random_state=42)\n"
   ]
  },
  {
   "cell_type": "markdown",
   "metadata": {
    "id": "rpKESxeny0Gl"
   },
   "source": [
    "## **Logistic Regression**"
   ]
  },
  {
   "cell_type": "markdown",
   "metadata": {
    "id": "QWKIoj2apeGA"
   },
   "source": [
    "##### Logistic Regression was selected as the baseline model because it often provides a good baseline performance for text classification tasks, especially when the relationship between features and sentiment is relatively linear.\n",
    "\n",
    "##### It is a relatively simple model that is easy to understand and interpret. Its coefficients can provide insights into which features are most important for predicting sentiment. It's computationally efficient, making it suitable for large datasets and quick experimentation.\n",
    "\n",
    "##### It's computationally efficient, making it suitable for large datasets and quick experimentation. They can capture non-linear relationships between features and sentiment, which is often the case in text data.\n"
   ]
  },
  {
   "cell_type": "code",
   "execution_count": 87,
   "metadata": {
    "colab": {
     "base_uri": "https://localhost:8080/"
    },
    "id": "7_stoxD-y0Gp",
    "outputId": "becd1a74-bc79-42c4-e834-d6804b785a0f"
   },
   "outputs": [
    {
     "name": "stdout",
     "output_type": "stream",
     "text": [
      "Logistic Regression Classification Report:\n",
      "              precision    recall  f1-score   support\n",
      "\n",
      "          -1       0.83      0.08      0.15       119\n",
      "           0       0.73      0.87      0.79      1139\n",
      "           1       0.61      0.49      0.54       556\n",
      "\n",
      "    accuracy                           0.70      1814\n",
      "   macro avg       0.72      0.48      0.49      1814\n",
      "weighted avg       0.70      0.70      0.67      1814\n",
      "\n"
     ]
    }
   ],
   "source": [
    "\n",
    "# Created a TfidfVectorizer object for converting text to numerical features\n",
    "vectorizer = TfidfVectorizer()\n",
    "\n",
    "# Fit the vectorizer to the training data and transform it\n",
    "X_train_vec = vectorizer.fit_transform(X_train)\n",
    "\n",
    "# Transformed the test data using the fitted vectorizer\n",
    "X_test_vec = vectorizer.transform(X_test)\n",
    "\n",
    "# Used the vectorized data for training the model\n",
    "log_model = LogisticRegression(max_iter=1000)\n",
    "log_model.fit(X_train_vec, y_train_encoded)  # Used vectorized training data\n",
    "log_preds = log_model.predict(X_test_vec)  # Used vectorized test data\n",
    "\n",
    "print(\"Logistic Regression Classification Report:\")\n",
    "\n",
    "#Convert label_encoder.classes_ to a list of strings\n",
    "target_names = [str(cls) for cls in label_encoder.classes_] # Convert class labels to strings\n",
    "print(classification_report(y_test_encoded, log_preds, target_names=target_names)) # Print classification report with label names"
   ]
  },
  {
   "cell_type": "code",
   "execution_count": 88,
   "metadata": {
    "colab": {
     "base_uri": "https://localhost:8080/"
    },
    "id": "O7eulE5y2TD8",
    "outputId": "461f8251-33ee-47f2-cb23-0b0098dbdf52"
   },
   "outputs": [
    {
     "name": "stdout",
     "output_type": "stream",
     "text": [
      "Best Hyperparameters: {'C': 10, 'penalty': 'l2', 'solver': 'liblinear'}\n"
     ]
    }
   ],
   "source": [
    "#Model Tuning with GridSearchCV\n",
    "param_grid = {\n",
    "    'C': [0.1, 1, 10],\n",
    "    'solver': ['liblinear', 'lbfgs'],\n",
    "    'penalty': ['l2']\n",
    "}\n",
    "grid_search = GridSearchCV(LogisticRegression(max_iter=2000), param_grid, cv=5, scoring='f1_weighted')\n",
    "\n",
    "grid_search.fit(X_train_vec, y_train_encoded)\n",
    "best_model = grid_search.best_estimator_\n",
    "best_params = grid_search.best_params_\n",
    "\n",
    "print(\"Best Hyperparameters:\", best_params)"
   ]
  },
  {
   "cell_type": "markdown",
   "metadata": {
    "id": "6ZFBYkAuy0Gr"
   },
   "source": [
    "### Random Forest Classifier"
   ]
  },
  {
   "cell_type": "markdown",
   "metadata": {
    "id": "GBnmqUIx5tm1"
   },
   "source": [
    "\n",
    "##### We then included a Random Forest Classifier to add more complexity and capture non-linear relationships between features and sentiment,  often the case in text data, in the data. Unlike Logistic Regression, which is linear, Random Forests use multiple decision trees to make predictions.\n",
    "\n",
    "##### They are less prone to overfitting compared to some other models, thanks to their ensemble nature (combining multiple decision trees). Additionally, Random Forests can give insights into which features (e.g., words or phrases) are most important for making predictions, which is helpful for interpretability."
   ]
  },
  {
   "cell_type": "code",
   "execution_count": 89,
   "metadata": {
    "colab": {
     "base_uri": "https://localhost:8080/"
    },
    "id": "jfqNNuwXy0Gs",
    "outputId": "3b13d727-f104-405a-ad61-2b42fc9371b4"
   },
   "outputs": [
    {
     "name": "stdout",
     "output_type": "stream",
     "text": [
      "Random Forest Classification Report:\n",
      "              precision    recall  f1-score   support\n",
      "\n",
      "          -1       0.72      0.19      0.30       119\n",
      "           0       0.72      0.88      0.79      1139\n",
      "           1       0.64      0.44      0.52       556\n",
      "\n",
      "    accuracy                           0.70      1814\n",
      "   macro avg       0.69      0.51      0.54      1814\n",
      "weighted avg       0.69      0.70      0.68      1814\n",
      "\n"
     ]
    }
   ],
   "source": [
    "rf_model = RandomForestClassifier(n_estimators=100, random_state=42)\n",
    "rf_model.fit(X_train_vec, y_train_encoded)\n",
    "rf_preds = rf_model.predict(X_test_vec)\n",
    "\n",
    "print(\"Random Forest Classification Report:\")\n",
    "\n",
    "# Convert label_encoder.classes_ to a list of strings\n",
    "target_names = [str(cls) for cls in label_encoder.classes_]\n",
    "print(classification_report(y_test_encoded, rf_preds, target_names=target_names))"
   ]
  },
  {
   "cell_type": "code",
   "execution_count": 90,
   "metadata": {
    "colab": {
     "base_uri": "https://localhost:8080/"
    },
    "id": "uIA_Xw8OCScC",
    "outputId": "9324f9f9-9cc0-495c-d5b6-8f5b8704b3d2"
   },
   "outputs": [
    {
     "name": "stdout",
     "output_type": "stream",
     "text": [
      "Fitting 2 folds for each of 8 candidates, totalling 16 fits\n"
     ]
    },
    {
     "name": "stderr",
     "output_type": "stream",
     "text": [
      "[Parallel(n_jobs=-1)]: Using backend LokyBackend with 8 concurrent workers.\n",
      "[Parallel(n_jobs=-1)]: Done  10 out of  16 | elapsed:   21.8s remaining:   13.0s\n",
      "[Parallel(n_jobs=-1)]: Done  16 out of  16 | elapsed:   25.0s finished\n"
     ]
    },
    {
     "name": "stdout",
     "output_type": "stream",
     "text": [
      "Best Random Forest Parameters: {'bootstrap': True, 'criterion': 'gini', 'max_depth': None, 'max_features': 'sqrt', 'min_samples_leaf': 1, 'min_samples_split': 2, 'n_estimators': 100}\n"
     ]
    }
   ],
   "source": [
    "param_grid_rf = {\n",
    "    'n_estimators': [50,100],\n",
    "    'max_depth': [None, 10],\n",
    "    'min_samples_split': [2, 5],\n",
    "    'min_samples_leaf': [1],\n",
    "    'max_features': ['sqrt'],\n",
    "    'bootstrap': [True],\n",
    "    'criterion': ['gini']\n",
    "}\n",
    "\n",
    "grid_search_rf = GridSearchCV(\n",
    "    RandomForestClassifier(random_state=42),\n",
    "    param_grid_rf,\n",
    "    cv=2,\n",
    "    scoring='f1_weighted',\n",
    "    n_jobs=-1,\n",
    "    verbose=2\n",
    ")\n",
    "\n",
    "grid_search_rf.fit(X_train_vec, y_train_encoded)\n",
    "\n",
    "best_rf_model = grid_search_rf.best_estimator_\n",
    "best_rf_params = grid_search_rf.best_params_\n",
    "\n",
    "print(\"Best Random Forest Parameters:\", best_rf_params)"
   ]
  },
  {
   "cell_type": "markdown",
   "metadata": {
    "id": "GGZOJzNRy0Gu"
   },
   "source": [
    "### Basic Neural Network"
   ]
  },
  {
   "cell_type": "markdown",
   "metadata": {
    "id": "u8YN49sd1bsz"
   },
   "source": [
    "##### We implemented a basic Neural Network to explore how a more flexible, deep learning model would perform. Neural networks are capable of learning complex patterns and relationships in data that traditional models might miss.\n",
    "\n",
    "#####  They can be adapted to different types of text data and tasks. With careful tuning, neural networks can achieve very high accuracy in sentiment analysis.\n",
    "\n",
    "##### They can be easily extended to incorporate more advanced techniques like word embeddings and recurrent layers for even better performance."
   ]
  },
  {
   "cell_type": "code",
   "execution_count": 91,
   "metadata": {
    "colab": {
     "base_uri": "https://localhost:8080/"
    },
    "id": "loGQSbA_y0Gu",
    "outputId": "9347019a-333b-4e3c-9e3d-99013a42d04c"
   },
   "outputs": [
    {
     "name": "stdout",
     "output_type": "stream",
     "text": [
      "Epoch 1/5\n",
      "205/205 [==============================] - 1s 6ms/step - loss: 0.8074 - accuracy: 0.6300 - val_loss: 0.7105 - val_accuracy: 0.6749\n",
      "Epoch 2/5\n",
      "205/205 [==============================] - 1s 5ms/step - loss: 0.5541 - accuracy: 0.7613 - val_loss: 0.7293 - val_accuracy: 0.6653\n",
      "Epoch 3/5\n",
      "205/205 [==============================] - 1s 5ms/step - loss: 0.3696 - accuracy: 0.8473 - val_loss: 0.8531 - val_accuracy: 0.6543\n",
      "Epoch 4/5\n",
      "205/205 [==============================] - 1s 5ms/step - loss: 0.2739 - accuracy: 0.8891 - val_loss: 0.9672 - val_accuracy: 0.6460\n",
      "Epoch 5/5\n",
      "205/205 [==============================] - 1s 5ms/step - loss: 0.2142 - accuracy: 0.9084 - val_loss: 1.1040 - val_accuracy: 0.6570\n",
      "Neural Network Classification Report:\n",
      "              precision    recall  f1-score   support\n",
      "\n",
      "          -1       0.41      0.39      0.40       119\n",
      "           0       0.75      0.77      0.76      1139\n",
      "           1       0.56      0.55      0.56       556\n",
      "\n",
      "    accuracy                           0.68      1814\n",
      "   macro avg       0.58      0.57      0.57      1814\n",
      "weighted avg       0.67      0.68      0.67      1814\n",
      "\n"
     ]
    }
   ],
   "source": [
    "# We use a sequential model with two dense layers and a softmax output layer.\n",
    "# The input shape corresponds to the number of features from the TF-IDF vectorizer.\n",
    "# The ReLU activation function is used in the hidden layers for non-linearity.\n",
    "# The softmax activation function in the output layer provides probability distributions over the classes.\n",
    "y_train_categorical = to_categorical(y_train_encoded)\n",
    "y_test_categorical = to_categorical(y_test_encoded)\n",
    "\n",
    "# Create a TfidfVectorizer object for converting text to numerical features\n",
    "vectorizer = TfidfVectorizer()\n",
    "\n",
    "# Fit the vectorizer to the training data and transform it\n",
    "X_train_vec = vectorizer.fit_transform(X_train)\n",
    "\n",
    "# Transform the test data using the fitted vectorizer\n",
    "X_test_vec = vectorizer.transform(X_test)\n",
    "\n",
    "nn_model = Sequential([\n",
    "    Input(shape=(X_train_vec.shape[1],)),\n",
    "    Dense(128, activation='relu'),\n",
    "    Dense(64, activation='relu'),\n",
    "    Dense(len(label_encoder.classes_), activation='softmax')\n",
    "])\n",
    "\n",
    "nn_model.compile(optimizer='adam', loss='categorical_crossentropy', metrics=['accuracy'])\n",
    "nn_model.fit(X_train_vec.toarray(), y_train_categorical, epochs=5, batch_size=32, validation_split=0.1)  # Use X_train_vec.toarray()\n",
    "\n",
    "nn_preds = nn_model.predict(X_test_vec.toarray())\n",
    "nn_preds_labels = nn_preds.argmax(axis=1)\n",
    "\n",
    "print(\"Neural Network Classification Report:\")\n",
    "# Convert label_encoder.classes_ to a list of strings\n",
    "target_names = [str(cls) for cls in label_encoder.classes_]\n",
    "print(classification_report(y_test_encoded, nn_preds_labels, target_names=target_names))"
   ]
  },
  {
   "cell_type": "code",
   "execution_count": 92,
   "metadata": {
    "colab": {
     "base_uri": "https://localhost:8080/"
    },
    "id": "9gN3iECCHcnM",
    "outputId": "e7c29824-df46-41b3-8ff2-cd6bde495d7e"
   },
   "outputs": [
    {
     "name": "stdout",
     "output_type": "stream",
     "text": [
      "Trying: units1=64, units2=32, dropout=0.2, optimizer=adam, epochs=30, batch_size=64\n",
      "Trying: units1=64, units2=32, dropout=0.2, optimizer=rmsprop, epochs=30, batch_size=64\n",
      "Trying: units1=64, units2=32, dropout=0.5, optimizer=adam, epochs=30, batch_size=64\n",
      "Trying: units1=64, units2=32, dropout=0.5, optimizer=rmsprop, epochs=30, batch_size=64\n",
      "Trying: units1=64, units2=64, dropout=0.2, optimizer=adam, epochs=30, batch_size=64\n",
      "Trying: units1=64, units2=64, dropout=0.2, optimizer=rmsprop, epochs=30, batch_size=64\n",
      "Trying: units1=64, units2=64, dropout=0.5, optimizer=adam, epochs=30, batch_size=64\n",
      "Trying: units1=64, units2=64, dropout=0.5, optimizer=rmsprop, epochs=30, batch_size=64\n",
      "Trying: units1=128, units2=32, dropout=0.2, optimizer=adam, epochs=30, batch_size=64\n",
      "Trying: units1=128, units2=32, dropout=0.2, optimizer=rmsprop, epochs=30, batch_size=64\n",
      "Trying: units1=128, units2=32, dropout=0.5, optimizer=adam, epochs=30, batch_size=64\n",
      "Trying: units1=128, units2=32, dropout=0.5, optimizer=rmsprop, epochs=30, batch_size=64\n",
      "Trying: units1=128, units2=64, dropout=0.2, optimizer=adam, epochs=30, batch_size=64\n",
      "Trying: units1=128, units2=64, dropout=0.2, optimizer=rmsprop, epochs=30, batch_size=64\n",
      "Trying: units1=128, units2=64, dropout=0.5, optimizer=adam, epochs=30, batch_size=64\n",
      "Trying: units1=128, units2=64, dropout=0.5, optimizer=rmsprop, epochs=30, batch_size=64\n",
      "\n",
      "Best Neural Network Parameters: {'units1': 128, 'units2': 32, 'dropout_rate': 0.2, 'optimizer': 'adam', 'epochs': 30, 'batch_size': 64}\n"
     ]
    }
   ],
   "source": [
    "# Hyperparameter tuning for the neural network using a grid search.\n",
    "# We iterate through different combinations of units in the hidden layers, dropout rate, and optimizer.\n",
    "# Early stopping is used to prevent overfitting and improve generalization performance.\n",
    "def create_nn_model(units1, units2, dropout_rate, optimizer='adam'):\n",
    "    model = Sequential([\n",
    "        Input(shape=(X_train_vec.shape[1],)),\n",
    "        Dense(units1, activation='relu'),\n",
    "        Dropout(dropout_rate),\n",
    "        Dense(units2, activation='relu'),\n",
    "        Dense(len(label_encoder.classes_), activation='softmax')\n",
    "    ])\n",
    "    model.compile(optimizer=optimizer, loss='categorical_crossentropy', metrics=['accuracy'])\n",
    "    return model\n",
    "\n",
    "# Hyperparameter grid\n",
    "param_grid_nn = {\n",
    "    'units1': [64, 128],\n",
    "    'units2': [32, 64],\n",
    "    'dropout_rate': [0.2, 0.5],\n",
    "    'optimizer': ['adam', 'rmsprop'],\n",
    "    'epochs': [30],\n",
    "    'batch_size': [64]\n",
    "}\n",
    "\n",
    "best_accuracy = 0.0\n",
    "best_params = {}\n",
    "best_model = None\n",
    "\n",
    "for units1 in param_grid_nn['units1']:\n",
    "    for units2 in param_grid_nn['units2']:\n",
    "        for dropout_rate in param_grid_nn['dropout_rate']:\n",
    "            for optimizer in param_grid_nn['optimizer']:\n",
    "                for epochs in param_grid_nn['epochs']:\n",
    "                    for batch_size in param_grid_nn['batch_size']:\n",
    "                        print(f\"Trying: units1={units1}, units2={units2}, dropout={dropout_rate}, optimizer={optimizer}, epochs={epochs}, batch_size={batch_size}\")\n",
    "\n",
    "                        model = create_nn_model(units1, units2, dropout_rate, optimizer)\n",
    "                        es = EarlyStopping(monitor='val_loss', patience=3, restore_best_weights=True, verbose=0)\n",
    "\n",
    "                        history = model.fit(\n",
    "                            X_train_vec.toarray(), y_train_categorical,\n",
    "                            epochs=epochs,\n",
    "                            batch_size=batch_size,\n",
    "                            validation_split=0.1,\n",
    "                            verbose=0,\n",
    "                            callbacks=[es]\n",
    "                        )\n",
    "\n",
    "                        val_loss, accuracy = model.evaluate(X_train_vec.toarray(), y_train_categorical, verbose=0)\n",
    "\n",
    "                        if accuracy > best_accuracy:\n",
    "                            best_accuracy = accuracy\n",
    "                            best_params = {\n",
    "                                'units1': units1,\n",
    "                                'units2': units2,\n",
    "                                'dropout_rate': dropout_rate,\n",
    "                                'optimizer': optimizer,\n",
    "                                'epochs': epochs,\n",
    "                                'batch_size': batch_size\n",
    "                            }\n",
    "                            best_model = model\n",
    "\n",
    "print(\"\\nBest Neural Network Parameters:\", best_params)"
   ]
  },
  {
   "cell_type": "markdown",
   "metadata": {
    "id": "2f8NLHkiQheP"
   },
   "source": [
    "### MODEL EVALUATION"
   ]
  },
  {
   "cell_type": "markdown",
   "metadata": {
    "id": "CaXbJWCyQheP"
   },
   "source": [
    "#### Classification Reports & Confusion Matrices"
   ]
  },
  {
   "cell_type": "code",
   "execution_count": 93,
   "metadata": {
    "colab": {
     "base_uri": "https://localhost:8080/",
     "height": 680
    },
    "id": "6Se-yhJMQheQ",
    "outputId": "3041592a-3dc9-422e-de8c-63abf1ff539b"
   },
   "outputs": [
    {
     "name": "stdout",
     "output_type": "stream",
     "text": [
      "\n",
      "Logistic Regression Evaluation:\n",
      "              precision    recall  f1-score   support\n",
      "\n",
      "          -1       0.83      0.08      0.15       119\n",
      "           0       0.73      0.87      0.79      1139\n",
      "           1       0.61      0.49      0.54       556\n",
      "\n",
      "    accuracy                           0.70      1814\n",
      "   macro avg       0.72      0.48      0.49      1814\n",
      "weighted avg       0.70      0.70      0.67      1814\n",
      "\n"
     ]
    },
    {
     "data": {
      "image/png": "[encoded data removed]",
      "text/plain": [
       "<Figure size 432x288 with 2 Axes>"
      ]
     },
     "metadata": {},
     "output_type": "display_data"
    }
   ],
   "source": [
    "# Performing model evaluation using confusion matrices and classification reports\n",
    "\n",
    "# Logistic Regression Evaluation\n",
    "print(\"\\nLogistic Regression Evaluation:\")\n",
    "target_names_log = [str(cls) for cls in label_encoder.classes_]\n",
    "print(classification_report(y_test_encoded, log_preds, target_names=target_names_log))\n",
    "\n",
    "cm_log = confusion_matrix(y_test_encoded, log_preds)\n",
    "disp_log = ConfusionMatrixDisplay(confusion_matrix=cm_log, display_labels=label_encoder.classes_)\n",
    "disp_log.plot()\n",
    "plt.title('Logistic Regression Confusion Matrix')\n",
    "plt.show()"
   ]
  },
  {
   "cell_type": "markdown",
   "metadata": {
    "id": "1Xp_9d4iQheQ"
   },
   "source": [
    "The logistic regression model:\n",
    "1. Has an overall accuracy of 70% and;\n",
    "2. Performs best on class 0 (Neutral tweets/sentiments), which has a high number of correct predictions (987) and relatively few misclassifications."
   ]
  },
  {
   "cell_type": "code",
   "execution_count": 94,
   "metadata": {
    "colab": {
     "base_uri": "https://localhost:8080/",
     "height": 680
    },
    "id": "it8jvkLgQheQ",
    "outputId": "6ce85f70-518e-4746-e895-96dcda513ba4",
    "scrolled": false
   },
   "outputs": [
    {
     "name": "stdout",
     "output_type": "stream",
     "text": [
      "\n",
      "Random Forest Evaluation:\n",
      "              precision    recall  f1-score   support\n",
      "\n",
      "          -1       0.72      0.19      0.30       119\n",
      "           0       0.72      0.88      0.79      1139\n",
      "           1       0.64      0.44      0.52       556\n",
      "\n",
      "    accuracy                           0.70      1814\n",
      "   macro avg       0.69      0.51      0.54      1814\n",
      "weighted avg       0.69      0.70      0.68      1814\n",
      "\n"
     ]
    },
    {
     "data": {
      "image/png": "[encoded data removed]",
      "text/plain": [
       "<Figure size 432x288 with 2 Axes>"
      ]
     },
     "metadata": {},
     "output_type": "display_data"
    }
   ],
   "source": [
    "# Random Forest Evaluation\n",
    "print(\"\\nRandom Forest Evaluation:\")\n",
    "target_names_rf = [str(cls) for cls in label_encoder.classes_]\n",
    "print(classification_report(y_test_encoded, rf_preds, target_names=target_names_rf))\n",
    "\n",
    "cm_rf = confusion_matrix(y_test_encoded, rf_preds)\n",
    "disp_rf = ConfusionMatrixDisplay(confusion_matrix=cm_rf, display_labels=label_encoder.classes_)\n",
    "disp_rf.plot()\n",
    "plt.title('Random Forest Confusion Matrix')\n",
    "plt.show()"
   ]
  },
  {
   "cell_type": "markdown",
   "metadata": {
    "id": "X1w-pzRaQheR"
   },
   "source": [
    "The random forest model:\n",
    "1. Has an overall accuracy of 70% and;\n",
    "2. Performs best on class 0 (Neutral tweets/sentiments), correctly classifying (1006) of them."
   ]
  },
  {
   "cell_type": "code",
   "execution_count": 95,
   "metadata": {
    "colab": {
     "base_uri": "https://localhost:8080/",
     "height": 680
    },
    "id": "TXMp-UZWQheR",
    "outputId": "c5558807-2a44-48df-b68f-cffd083297d2"
   },
   "outputs": [
    {
     "name": "stdout",
     "output_type": "stream",
     "text": [
      "\n",
      "Neural Network Evaluation:\n",
      "              precision    recall  f1-score   support\n",
      "\n",
      "          -1       0.41      0.39      0.40       119\n",
      "           0       0.75      0.77      0.76      1139\n",
      "           1       0.56      0.55      0.56       556\n",
      "\n",
      "    accuracy                           0.68      1814\n",
      "   macro avg       0.58      0.57      0.57      1814\n",
      "weighted avg       0.67      0.68      0.67      1814\n",
      "\n"
     ]
    },
    {
     "data": {
      "image/png": "[encoded data removed]",
      "text/plain": [
       "<Figure size 432x288 with 2 Axes>"
      ]
     },
     "metadata": {},
     "output_type": "display_data"
    }
   ],
   "source": [
    "# Neural Network Evaluation\n",
    "print(\"\\nNeural Network Evaluation:\")\n",
    "target_names_nn = [str(cls) for cls in label_encoder.classes_]\n",
    "print(classification_report(y_test_encoded, nn_preds_labels, target_names=target_names_nn))\n",
    "\n",
    "cm_nn = confusion_matrix(y_test_encoded, nn_preds_labels)\n",
    "disp_nn = ConfusionMatrixDisplay(confusion_matrix=cm_nn, display_labels=label_encoder.classes_)\n",
    "disp_nn.plot()\n",
    "plt.title('Neural Network Confusion Matrix')\n",
    "plt.show()"
   ]
  },
  {
   "cell_type": "markdown",
   "metadata": {
    "id": "ez0m6zaQQheR"
   },
   "source": [
    "The Neural Network:\n",
    "1. Has an overall accuracy of 68% and;\n",
    "2. Is best at identifying (Neutral tweets/sentiments), correctly classifying (873) of them."
   ]
  },
  {
   "cell_type": "code",
   "execution_count": 96,
   "metadata": {},
   "outputs": [
    {
     "data": {
      "image/png": "[encoded data removed]",
      "text/plain": [
       "<Figure size 1296x720 with 3 Axes>"
      ]
     },
     "metadata": {},
     "output_type": "display_data"
    }
   ],
   "source": [
    "# Generate classification reports for each model and store them as dictionaries\n",
    "report_log = classification_report(y_test_encoded, log_preds, target_names=target_names_log, output_dict=True)\n",
    "report_rf = classification_report(y_test_encoded, rf_preds, target_names=target_names_log, output_dict=True)\n",
    "report_nn = classification_report(y_test_encoded, nn_preds_labels, target_names=target_names_log, output_dict=True)\n",
    "\n",
    "# Get the class labels from the label encoder\n",
    "classes = list(label_encoder.classes_)\n",
    "data = {\n",
    "    'Class': classes,\n",
    "    'Precision_Logistic': [report_log[str(cls)]['precision'] for cls in classes],\n",
    "    'Recall_Logistic': [report_log[str(cls)]['recall'] for cls in classes],\n",
    "    'F1_Logistic': [report_log[str(cls)]['f1-score'] for cls in classes],\n",
    "    'Precision_RF': [report_rf[str(cls)]['precision'] for cls in classes],\n",
    "    'Recall_RF': [report_rf[str(cls)]['recall'] for cls in classes],\n",
    "    'F1_RF': [report_rf[str(cls)]['f1-score'] for cls in classes],\n",
    "    'Precision_NN': [report_nn[str(cls)]['precision'] for cls in classes],\n",
    "    'Recall_NN': [report_nn[str(cls)]['recall'] for cls in classes],\n",
    "    'F1_NN': [report_nn[str(cls)]['f1-score'] for cls in classes]\n",
    "}\n",
    "\n",
    "# Convert the dictionary to a DataFrame for easy handling and visualization\n",
    "df = pd.DataFrame(data)\n",
    "\n",
    "# Reshape data\n",
    "precision_df = df.melt(id_vars='Class', value_vars=['Precision_Logistic', 'Precision_RF', 'Precision_NN'],\n",
    "                       var_name='Model', value_name='Precision')\n",
    "recall_df = df.melt(id_vars='Class', value_vars=['Recall_Logistic', 'Recall_RF', 'Recall_NN'],\n",
    "                    var_name='Model', value_name='Recall')\n",
    "f1_df = df.melt(id_vars='Class', value_vars=['F1_Logistic', 'F1_RF', 'F1_NN'],\n",
    "                var_name='Model', value_name='F1-score')\n",
    "\n",
    "# Set style\n",
    "sns.set(style=\"whitegrid\")\n",
    "fig, axes = plt.subplots(1, 3, figsize=(18, 10))\n",
    "\n",
    "# Precision Plot\n",
    "sns.barplot(data=precision_df, x='Class', y='Precision', hue='Model', ax=axes[0])\n",
    "axes[0].set_title('Precision per Class')\n",
    "\n",
    "# Recall Plot\n",
    "sns.barplot(data=recall_df, x='Class', y='Recall', hue='Model', ax=axes[1])\n",
    "axes[1].set_title('Recall per Class')\n",
    "\n",
    "# F1-score Plot\n",
    "sns.barplot(data=f1_df, x='Class', y='F1-score', hue='Model', ax=axes[2])\n",
    "axes[2].set_title('F1-score per Class')\n",
    "\n",
    "# Overall title\n",
    "fig.suptitle('Classification Report Comparison by Metric and Class', fontsize=16)\n",
    "\n",
    "# Improve layout\n",
    "plt.tight_layout()\n",
    "plt.legend(title='Model', bbox_to_anchor=(1.05, 1), loc='upper left')\n",
    "plt.show()"
   ]
  },
  {
   "cell_type": "markdown",
   "metadata": {},
   "source": [
    "The graph visually compares the precision, recall, and F1-score of different models across each class, enabling a detailed evaluation of how well each model performs in terms of correctly identifying positive instances, minimizing false negatives, and balancing precision and recall. This helps in identifying the strengths and weaknesses of each model for different classes in the dataset."
   ]
  },
  {
   "cell_type": "markdown",
   "metadata": {
    "id": "PClqset-QheR"
   },
   "source": [
    "#### Cross-Validation"
   ]
  },
  {
   "cell_type": "code",
   "execution_count": 97,
   "metadata": {
    "colab": {
     "base_uri": "https://localhost:8080/",
     "height": 193
    },
    "id": "Fwbvaxd_QheR",
    "outputId": "ec2ae72c-c269-4694-f2f8-1f7974ef91fc",
    "scrolled": true
   },
   "outputs": [
    {
     "name": "stdout",
     "output_type": "stream",
     "text": [
      "\n",
      "Logistic Regression Cross-Validation Scores: [0.65040388 0.64742686 0.66310875 0.65503338 0.64370382]\n",
      "Logistic Regression Mean CV F1-Score: 0.6519353371480674\n"
     ]
    }
   ],
   "source": [
    "# Logistic Regression Cross-Validation\n",
    "from sklearn.model_selection import cross_val_score\n",
    "\n",
    "log_scores = cross_val_score(log_model, X_train_vec, y_train_encoded, cv=5, scoring='f1_weighted')\n",
    "print(\"\\nLogistic Regression Cross-Validation Scores:\", log_scores)\n",
    "print(\"Logistic Regression Mean CV F1-Score:\", log_scores.mean())"
   ]
  },
  {
   "cell_type": "markdown",
   "metadata": {
    "id": "rqla0i-5QheS"
   },
   "source": [
    "The average logistic regression F1-score is approximately 0.652 (65.20%)"
   ]
  },
  {
   "cell_type": "code",
   "execution_count": 98,
   "metadata": {
    "id": "Wd25527UQheS",
    "scrolled": true
   },
   "outputs": [
    {
     "name": "stdout",
     "output_type": "stream",
     "text": [
      "\n",
      "Random Forest Cross-Validation Scores: [0.64375519 0.6472056  0.63569038 0.65145575 0.63369573]\n",
      "Random Forest Mean CV F1-Score: 0.642360532144024\n"
     ]
    }
   ],
   "source": [
    "# Random Forest Cross-Validation\n",
    "rf_scores = cross_val_score(rf_model, X_train_vec, y_train_encoded, cv=5, scoring='f1_weighted')\n",
    "print(\"\\nRandom Forest Cross-Validation Scores:\", rf_scores)\n",
    "print(\"Random Forest Mean CV F1-Score:\", rf_scores.mean())"
   ]
  },
  {
   "cell_type": "markdown",
   "metadata": {
    "id": "uYKRwVhUQheS"
   },
   "source": [
    "The Random Forest model's performance is relatively stable, with an average F1-score of around 0.642 (64.20%)."
   ]
  },
  {
   "cell_type": "code",
   "execution_count": 99,
   "metadata": {
    "id": "5LYR8qxgQheS",
    "scrolled": true
   },
   "outputs": [
    {
     "name": "stdout",
     "output_type": "stream",
     "text": [
      "\n",
      "Neural Network Cross-Validation F1-Scores: [0.6648841910259136, 0.6584541973932329, 0.6604978539168559, 0.6606971926324936, 0.6561627668593333]\n",
      "Neural Network Mean CV F1-Score: 0.6601392403655659\n"
     ]
    }
   ],
   "source": [
    "# Neural Network Cross-Validation (using KFold because cross_val_score is not compatible with keras models)\n",
    "\n",
    "from sklearn.model_selection import train_test_split, GridSearchCV, cross_val_score, KFold\n",
    "\n",
    "kf = KFold(n_splits=5, shuffle=True, random_state=42)\n",
    "nn_scores = []\n",
    "\n",
    "for train_index, val_index in kf.split(X_train_vec.toarray(), y_train_encoded):\n",
    "    X_train_fold, X_val_fold = X_train_vec.toarray()[train_index], X_train_vec.toarray()[val_index]\n",
    "    y_train_fold, y_val_fold = y_train_categorical[train_index], y_train_categorical[val_index]\n",
    "\n",
    "    nn_model_fold = create_nn_model(best_params['units1'], best_params['units2'], best_params['dropout_rate'], best_params['optimizer'])\n",
    "    nn_model_fold.fit(X_train_fold, y_train_fold, epochs=5, batch_size=32, verbose=0)\n",
    "    nn_preds_fold = nn_model_fold.predict(X_val_fold).argmax(axis=1)\n",
    "\n",
    "    nn_scores.append(classification_report(y_val_fold.argmax(axis=1), nn_preds_fold, output_dict=True)['weighted avg']['f1-score'])\n",
    "\n",
    "print(\"\\nNeural Network Cross-Validation F1-Scores:\", nn_scores)\n",
    "print(\"Neural Network Mean CV F1-Score:\", np.mean(nn_scores))"
   ]
  },
  {
   "cell_type": "markdown",
   "metadata": {
    "id": "XBAVyeySQheS"
   },
   "source": [
    "The mean F1-score of 0.651 (65.10%) shows that the neural network is likely to perform on average when predicting the sentiment of new tweets."
   ]
  },
  {
   "cell_type": "code",
   "execution_count": 100,
   "metadata": {
    "id": "nW62VXhfQheT",
    "scrolled": true
   },
   "outputs": [
    {
     "data": {
      "image/png": "[encoded data removed]",
      "text/plain": [
       "<Figure size 720x432 with 1 Axes>"
      ]
     },
     "metadata": {},
     "output_type": "display_data"
    }
   ],
   "source": [
    "# Visualizing the model names and their corresponding cross-validation scores\n",
    "model_names = ['Logistic Regression', 'Random Forest', 'Neural Network']\n",
    "cv_scores = [0.6519353371480674, 0.642360532144024, 0.651440749637515]\n",
    "\n",
    "# Line chart visualization\n",
    "plt.figure(figsize=(10, 6))\n",
    "plt.plot(model_names, cv_scores, marker='o', color='purple', linestyle='-')\n",
    "plt.ylabel('Mean CV F1-Score')\n",
    "plt.title('Model Comparison - Cross-Validation F1-Scores (Line Chart)')\n",
    "plt.ylim(0.64, 0.66)\n",
    "plt.xticks(rotation=45, ha=\"right\")\n",
    "plt.tight_layout()\n",
    "plt.show()"
   ]
  },
  {
   "cell_type": "markdown",
   "metadata": {
    "id": "rv4fIcKkQheT"
   },
   "source": [
    "Based on the F1-scores, we can conclude that:\n",
    "\n",
    "1. The Logistic Regression and Neural Network models perform similarly well, with the Logistic Regression model having a slightly higher F1-score.\n",
    "\n",
    "2. The Random Forest model performs slightly worse than the other two models.\n",
    "\n",
    "*Model Evaluation Conclusion*\n",
    "\n",
    "These results suggest that the Logistic Regression and Neural Network models are better suited for the sentiment analysis, as they are able to predict the sentiment of tweets with greater accuracy and precision.\n"
   ]
  },
  {
   "cell_type": "markdown",
   "metadata": {
    "id": "3sgd6no-XbYp"
   },
   "source": [
    "# Conclusion"
   ]
  },
  {
   "cell_type": "markdown",
   "metadata": {
    "id": "M0wEDWknYFPA"
   },
   "source": [
    "1. Sentiment can be accurately predicted using only the text of tweets, as demonstrated by the strong performance of the models, particularly Logistic Regression and Neural Networks.\n",
    "\n",
    "2. Positive tweets often contain words expressing satisfaction or excitement, negative tweets include complaints or frustration, and neutral tweets are generally factual and unbiased.\n",
    "\n",
    "3. Logistic Regression performed best overall, followed closely by the Neural Network. Both outperformed the Random Forest model in terms of F1-score.\n",
    "\n",
    "4. The most effective evaluation metric was the F1-score, as it provides a balanced measure of precision and recall, making it ideal for sentiment classification tasks."
   ]
  },
  {
   "cell_type": "markdown",
   "metadata": {
    "id": "LNopTORoYkFC"
   },
   "source": [
    "# Recomendations"
   ]
  },
  {
   "cell_type": "markdown",
   "metadata": {
    "id": "1B-F_jyIYn91"
   },
   "source": [
    "1. **Deploy the Model as a Real-Time Monitoring Tool**\n",
    "Host the trained model in a cloud environment and integrate it with Twitter’s API to continuously collect and analyze tweets. This allows Apple and Google to track public sentiment in real time.\n",
    "\n",
    "\n",
    "2. **Use Sentiment Trends to Inform Product Strategy**\n",
    "Regularly analyze sentiment data to identify recurring complaints or praise. This can guide product development teams on areas of improvement or features that users love.`1\n",
    "\n",
    "3. **Enhance the Model with More Data and Context**\n",
    "Continuously retrain the model with new tweets and expand to include emojis, hashtags, and user metadata to capture richer sentiment signals.\n",
    "\n",
    "4. **Integrate with Customer Support and PR Teams**\n",
    "Provide alerts for sudden spikes in negative sentiment so support or communications teams can proactively respond and manage brand reputation."
   ]
  },
  {
   "cell_type": "code",
   "execution_count": null,
   "metadata": {},
   "outputs": [],
   "source": []
  }
 ],
 "metadata": {
  "colab": {
   "provenance": [],
   "toc_visible": true
  },
  "kernelspec": {
   "display_name": "Python 3",
   "language": "python",
   "name": "python3"
  },
  "language_info": {
   "codemirror_mode": {
    "name": "ipython",
    "version": 3
   },
   "file_extension": ".py",
   "mimetype": "text/x-python",
   "name": "python",
   "nbconvert_exporter": "python",
   "pygments_lexer": "ipython3",
   "version": "3.8.5"
  }
 },
 "nbformat": 4,
 "nbformat_minor": 1
}
